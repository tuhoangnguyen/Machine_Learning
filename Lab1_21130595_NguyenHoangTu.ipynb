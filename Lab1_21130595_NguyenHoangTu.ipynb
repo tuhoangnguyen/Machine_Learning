{
  "nbformat": 4,
  "nbformat_minor": 0,
  "metadata": {
    "colab": {
      "provenance": [],
      "authorship_tag": "ABX9TyPgdViFdWzYGyCtLH9JC/3u",
      "include_colab_link": true
    },
    "kernelspec": {
      "name": "python3",
      "display_name": "Python 3"
    },
    "language_info": {
      "name": "python"
    }
  },
  "cells": [
    {
      "cell_type": "markdown",
      "metadata": {
        "id": "view-in-github",
        "colab_type": "text"
      },
      "source": [
        "<a href=\"https://colab.research.google.com/github/tuhoangnguyen/Machine_Learning/blob/main/Lab1_21130595_NguyenHoangTu.ipynb\" target=\"_parent\"><img src=\"https://colab.research.google.com/assets/colab-badge.svg\" alt=\"Open In Colab\"/></a>"
      ]
    },
    {
      "cell_type": "code",
      "source": [
        "import numpy as np\n"
      ],
      "metadata": {
        "id": "fOGguYJ8B_MR"
      },
      "execution_count": 35,
      "outputs": []
    },
    {
      "cell_type": "code",
      "execution_count": 36,
      "metadata": {
        "colab": {
          "base_uri": "https://localhost:8080/"
        },
        "id": "vkkPAVH16y6r",
        "outputId": "2f187659-d8a6-4111-eb2f-f255e94f4756"
      },
      "outputs": [
        {
          "output_type": "stream",
          "name": "stdout",
          "text": [
            "Nhap chieu dai danh sach:4\n",
            "Nhap so di:-5\n",
            "Nhap so di:-1\n",
            "Nhap so di:4\n",
            "Nhap so di:0\n",
            "[-5, -1, 4, 0]\n"
          ]
        }
      ],
      "source": [
        "#Input an integer number n.\n",
        "#Input n integer numbers x1, x2,..., xn and append them into a list L\n",
        "n = int (input(\"Nhap chieu dai danh sach:\"))\n",
        "L = []\n",
        "i = 0\n",
        "while i < n:\n",
        "  item = (input(\"Nhap so di:\"))\n",
        "  L.append(int(item))\n",
        "  i+=1\n",
        "print(L)"
      ]
    },
    {
      "cell_type": "code",
      "source": [],
      "metadata": {
        "id": "hL5jl87iB-Sr"
      },
      "execution_count": 36,
      "outputs": []
    },
    {
      "cell_type": "code",
      "source": [
        "print('Gia tri lon nhat',max(L))\n",
        "print('Gia tri nho nhat',min(L))"
      ],
      "metadata": {
        "colab": {
          "base_uri": "https://localhost:8080/"
        },
        "id": "Hb8ZqqGB-L2z",
        "outputId": "8274b451-914a-4e86-fef1-a1735ce2fbfa"
      },
      "execution_count": 37,
      "outputs": [
        {
          "output_type": "stream",
          "name": "stdout",
          "text": [
            "Gia tri lon nhat 4\n",
            "Gia tri nho nhat -5\n"
          ]
        }
      ]
    },
    {
      "cell_type": "code",
      "source": [
        "# Compute the sum\n",
        "print(np.sum(L))\n",
        "#Sort the list L in ascending order\n",
        "L.sort()\n",
        "print('Sap xep danh sach tang dan: ', L)\n",
        "#– Show how many positive and negative numbers are in the list L.\n",
        "limit = 0;\n",
        "positiveNumber =  0;\n",
        "negativeNumber = 0;\n",
        "for x in L:\n",
        "  if(x > 0) :\n",
        "    positiveNumber+=1\n",
        "  elif(x <0):\n",
        "    negativeNumber+=1\n",
        "print(\"So duong trong list: \", positiveNumber)\n",
        "print(\"So am trong list: \", negativeNumber)\n",
        "\n",
        "\n"
      ],
      "metadata": {
        "colab": {
          "base_uri": "https://localhost:8080/"
        },
        "id": "1BHX0FnSAEa7",
        "outputId": "56979604-92f6-4d14-b752-b49e1aca4948"
      },
      "execution_count": 39,
      "outputs": [
        {
          "output_type": "stream",
          "name": "stdout",
          "text": [
            "-2\n",
            "Sap xep danh sach tang dan:  [-5, -1, 0, 4]\n",
            "So duong trong list:  1\n",
            "So am trong list:  2\n"
          ]
        }
      ]
    }
  ]
}